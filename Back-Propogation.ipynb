{
 "cells": [
  {
   "cell_type": "code",
   "execution_count": 2,
   "metadata": {
    "collapsed": true
   },
   "outputs": [
    {
     "name": "stdout",
     "output_type": "stream",
     "text": [
      "Input : \n",
      "[[0.66666667 1.        ]\n",
      " [0.33333333 0.55555556]\n",
      " [1.         0.66666667]]\n",
      "Actual Output : \n",
      "[[0.92]\n",
      " [0.89]\n",
      " [0.86]]\n",
      "Predicted : \n",
      "[[0.91806427]\n",
      " [0.89151804]\n",
      " [0.860097  ]]\n"
     ]
    }
   ],
   "source": [
    "import numpy as np\n",
    "X = np.array(([2, 9], [1, 5], [3, 6]), dtype=float)\n",
    "Y = np.array(([92], [89], [86]), dtype=float)\n",
    "X = X / np.amax(X, axis=0)\n",
    "Y = Y / 100\n",
    "\n",
    "def sigmoid(x):\n",
    "    return 1 / (1 + np.exp(-x))\n",
    "\n",
    "\n",
    "def derivativeSigmoid(x):\n",
    "    return x * (1 - x)\n",
    "\n",
    "epoch = 500000\n",
    "inputLayerNeuron = 2\n",
    "hiddenLayerNeuron = 3\n",
    "outputLayerNeurons = 1\n",
    "learnRate = 0.1\n",
    "\n",
    "weight = np.random.uniform(size=(inputLayerNeuron, hiddenLayerNeuron))\n",
    "bias = np.random.uniform(size=(1, hiddenLayerNeuron))\n",
    "weightOut = np.random.uniform(size=(hiddenLayerNeuron, outputLayerNeurons))\n",
    "biasOut = np.random.uniform(size=(1, outputLayerNeurons))\n",
    "\n",
    "for i in range(epoch):\n",
    "    hInput = np.dot(X, weight) + bias\n",
    "    hLayerAct = sigmoid(hInput)\n",
    "    outInput = np.dot(hLayerAct, weightOut) + biasOut\n",
    "    output = sigmoid(outInput)\n",
    "\n",
    "    E0 = Y - output\n",
    "    outGrad = derivativeSigmoid(output)\n",
    "    dOutput = E0 * outGrad\n",
    "\n",
    "    EH = dOutput.dot(weightOut.T)\n",
    "    hiddenGrad = derivativeSigmoid(hLayerAct)\n",
    "    dHidden = EH * hiddenGrad\n",
    "\n",
    "    weightOut += hLayerAct.T.dot(dOutput) * learnRate\n",
    "    weight += X.T.dot(dHidden) * learnRate\n",
    "\n",
    "print(\"Input : \\n{}\".format(str(X)))\n",
    "print(\"Actual Output : \\n{}\".format(str(Y)))\n",
    "print(\"Predicted : \\n{}\".format(output))"
   ]
  },
  {
   "cell_type": "code",
   "execution_count": null,
   "outputs": [],
   "source": [],
   "metadata": {
    "collapsed": false
   }
  }
 ],
 "metadata": {
  "kernelspec": {
   "display_name": "Python 3",
   "language": "python",
   "name": "python3"
  },
  "language_info": {
   "codemirror_mode": {
    "name": "ipython",
    "version": 2
   },
   "file_extension": ".py",
   "mimetype": "text/x-python",
   "name": "python",
   "nbconvert_exporter": "python",
   "pygments_lexer": "ipython2",
   "version": "2.7.6"
  }
 },
 "nbformat": 4,
 "nbformat_minor": 0
}
