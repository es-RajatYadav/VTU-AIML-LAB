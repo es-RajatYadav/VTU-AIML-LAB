{
 "cells": [
  {
   "cell_type": "code",
   "execution_count": 45,
   "metadata": {
    "collapsed": true
   },
   "outputs": [],
   "source": [
    "from sklearn.feature_extraction.text import CountVectorizer\n",
    "from sklearn.naive_bayes import MultinomialNB\n",
    "from sklearn.model_selection import train_test_split\n",
    "from sklearn.metrics import accuracy_score, confusion_matrix, recall_score, precision_score\n",
    "import pandas as pd"
   ]
  },
  {
   "cell_type": "code",
   "execution_count": 46,
   "outputs": [
    {
     "name": "stdout",
     "output_type": "stream",
     "text": [
      "Total Instances : 18\n"
     ]
    }
   ],
   "source": [
    "message = pd.read_csv('Review.csv', names=['message', 'label'])\n",
    "print(\"Total Instances : {}\".format(message.shape[0]))\n",
    "message['labelNum'] = message.label.map({'pos' : 1, 'neg': 0})"
   ],
   "metadata": {
    "collapsed": false
   }
  },
  {
   "cell_type": "code",
   "execution_count": 47,
   "outputs": [],
   "source": [
    "X = message.message\n",
    "Y = message.labelNum\n",
    "xTrain, xTest, yTrain, yTest = train_test_split(X, Y)"
   ],
   "metadata": {
    "collapsed": false
   }
  },
  {
   "cell_type": "code",
   "execution_count": 48,
   "outputs": [],
   "source": [
    "countV = CountVectorizer()\n",
    "modXTrain = countV.fit_transform(xTrain)\n",
    "modxTest = countV.transform(xTest)"
   ],
   "metadata": {
    "collapsed": false
   }
  },
  {
   "cell_type": "code",
   "execution_count": 49,
   "outputs": [
    {
     "name": "stdout",
     "output_type": "stream",
     "text": [
      "   about  am  amazing  an  and  awesome  bad  beers  boss  can  ...  sworn  \\\n",
      "0      0   0        0   0    0        0    0      0     1    0  ...      0   \n",
      "1      0   1        0   0    1        0    0      0     0    0  ...      0   \n",
      "2      0   0        0   0    0        0    0      0     0    0  ...      0   \n",
      "3      0   0        1   1    0        0    0      0     0    0  ...      0   \n",
      "4      0   0        0   0    0        0    0      0     0    0  ...      0   \n",
      "\n",
      "   that  these  this  tired  to  very  view  what  with  \n",
      "0     0      0     0      0   0     0     0     0     0  \n",
      "1     0      0     1      1   0     0     0     0     0  \n",
      "2     0      0     0      0   1     0     0     0     0  \n",
      "3     0      0     1      0   0     0     0     0     0  \n",
      "4     0      0     1      0   0     0     0     0     0  \n",
      "\n",
      "[5 rows x 42 columns]\n"
     ]
    }
   ],
   "source": [
    "df = pd.DataFrame(modXTrain.toarray(), columns=countV.get_feature_names_out())\n",
    "print(df[:5])"
   ],
   "metadata": {
    "collapsed": false
   }
  },
  {
   "cell_type": "code",
   "execution_count": 50,
   "outputs": [],
   "source": [
    "classifier = MultinomialNB()\n",
    "classifier.fit(modXTrain, yTrain)\n",
    "yPred = classifier.predict(modxTest)"
   ],
   "metadata": {
    "collapsed": false
   }
  },
  {
   "cell_type": "code",
   "execution_count": 51,
   "outputs": [
    {
     "name": "stdout",
     "output_type": "stream",
     "text": [
      "My boss is horrible -> -ve\n",
      "I am sick and tired of this place -> -ve\n",
      "I love to dance -> -ve\n",
      "This is an amazing place -> +ve\n",
      "I love this sandwich -> -ve\n"
     ]
    }
   ],
   "source": [
    "for doc, p in zip(xTrain, yPred):\n",
    "    p = '+ve' if p == 1 else '-ve'\n",
    "    print(\"{} -> {}\".format(doc, p))"
   ],
   "metadata": {
    "collapsed": false
   }
  },
  {
   "cell_type": "code",
   "execution_count": 52,
   "outputs": [
    {
     "name": "stdout",
     "output_type": "stream",
     "text": [
      "Accuracy Metrics : \n",
      "Accuracy : 0.8 || Recall : 0.5 || Precision : 1.0 \n",
      " Confusion Matrix : \n",
      " [[3 0]\n",
      " [1 1]]\n"
     ]
    }
   ],
   "source": [
    "print(\"Accuracy Metrics : \")\n",
    "print(\"Accuracy : {} || Recall : {} || Precision : {} \\n Confusion Matrix : \\n {}\".format(accuracy_score(yTest, yPred), recall_score(yTest, yPred), precision_score(yTest, yPred), confusion_matrix(yTest, yPred)))"
   ],
   "metadata": {
    "collapsed": false
   }
  },
  {
   "cell_type": "code",
   "execution_count": null,
   "outputs": [],
   "source": [],
   "metadata": {
    "collapsed": false
   }
  }
 ],
 "metadata": {
  "kernelspec": {
   "display_name": "Python 3",
   "language": "python",
   "name": "python3"
  },
  "language_info": {
   "codemirror_mode": {
    "name": "ipython",
    "version": 2
   },
   "file_extension": ".py",
   "mimetype": "text/x-python",
   "name": "python",
   "nbconvert_exporter": "python",
   "pygments_lexer": "ipython2",
   "version": "2.7.6"
  }
 },
 "nbformat": 4,
 "nbformat_minor": 0
}
